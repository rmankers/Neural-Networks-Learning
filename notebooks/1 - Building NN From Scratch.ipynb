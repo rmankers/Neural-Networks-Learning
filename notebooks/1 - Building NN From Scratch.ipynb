{
 "cells": [
  {
   "cell_type": "code",
   "execution_count": 1,
   "metadata": {},
   "outputs": [],
   "source": [
    "import pandas as pd \n",
    "import numpy as np "
   ]
  },
  {
   "cell_type": "code",
   "execution_count": 2,
   "metadata": {},
   "outputs": [],
   "source": [
    "training_data_df = pd.read_csv('../data/train.csv')"
   ]
  },
  {
   "cell_type": "code",
   "execution_count": 3,
   "metadata": {},
   "outputs": [],
   "source": [
    "def relu(x):\n",
    "    return np.maximum(0,x)\n",
    "\n",
    "def sigmoid(x):\n",
    "    return 1 / (1 + np.exp(-x))\n",
    "\n",
    "def softmax(x):\n",
    "    return np.exp(x) / np.sum(np.exp(x),axis = 0)"
   ]
  },
  {
   "cell_type": "code",
   "execution_count": 21,
   "metadata": {},
   "outputs": [],
   "source": [
    "# Converting data to numpy array and Transposing\n",
    "\n",
    "X = training_data_df.drop(columns = ['label']).to_numpy().T \n",
    "\n",
    "# Scaling down Data so we dont break exponential functions\n",
    "X = X/1000\n",
    "\n",
    "# Getting Size of Features and samples\n",
    "n,m = X.shape\n",
    "\n",
    "# Getting Size of Hidden Layers\n",
    "h1_n = 10\n",
    "h2_n = 10\n",
    "\n",
    "#Initalizing Weight Matrix\n",
    "W1 = np.random.rand(h1_n,n)\n",
    "W2 = np.random.rand(h2_n,h1_n)\n",
    "\n",
    "# Initalizing Biases Vectors\n",
    "b1 = np.zeros(shape = (h1_n,1))\n",
    "b2 = np.zeros(shape = (h2_n,1))\n",
    "\n",
    "#Forward Prop Functions\n",
    "Z1 = np.dot(W1,X) + b1\n",
    "A1 = relu(Z1)\n",
    "\n",
    "Z2 = np.dot(W2,A1) + b2\n",
    "A2 = softmax(Z2)"
   ]
  },
  {
   "cell_type": "code",
   "execution_count": 22,
   "metadata": {},
   "outputs": [
    {
     "data": {
      "text/plain": [
       "8"
      ]
     },
     "execution_count": 22,
     "metadata": {},
     "output_type": "execute_result"
    }
   ],
   "source": [
    "A2[:,0].argmax()"
   ]
  },
  {
   "cell_type": "code",
   "execution_count": null,
   "metadata": {},
   "outputs": [],
   "source": []
  }
 ],
 "metadata": {
  "kernelspec": {
   "display_name": "base",
   "language": "python",
   "name": "python3"
  },
  "language_info": {
   "codemirror_mode": {
    "name": "ipython",
    "version": 3
   },
   "file_extension": ".py",
   "mimetype": "text/x-python",
   "name": "python",
   "nbconvert_exporter": "python",
   "pygments_lexer": "ipython3",
   "version": "3.9.12"
  }
 },
 "nbformat": 4,
 "nbformat_minor": 2
}
